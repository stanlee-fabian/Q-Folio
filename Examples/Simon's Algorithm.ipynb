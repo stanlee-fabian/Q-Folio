{
 "cells": [
  {
   "cell_type": "code",
   "execution_count": null,
   "id": "72623493-993d-4477-86f6-a0ca8bb2c28c",
   "metadata": {},
   "outputs": [],
   "source": [
    "import QuantumRingsLib\n",
    "from QuantumRingsLib import QuantumRegister, AncillaRegister, ClassicalRegister, QuantumCircuit\n",
    "from QuantumRingsLib import QuantumRingsProvider\n",
    "from QuantumRingsLib import job_monitor\n",
    "from QuantumRingsLib import JobStatus\n",
    "from matplotlib import pyplot as plt\n",
    "import numpy as np\n",
    "import os\n",
    "provider = QuantumRingsProvider(token=os.environ.get('TOKEN_QUANTUMRINGS'), name=os.environ.get('ACCOUNT_QUANTUMRINGS'))\n",
    "backend = provider.get_backend(\"scarlet_quantum_rings\")\n",
    "shots = 100\n",
    "provider.active_account()\n"
   ]
  },
  {
   "cell_type": "code",
   "execution_count": 2,
   "id": "2f52cefb-bf91-44da-8e96-132507ec719f",
   "metadata": {},
   "outputs": [],
   "source": [
    "def plot_histogram (counts, title=\"\"):\n",
    "    \"\"\"\n",
    "    Plots the histogram of the counts\n",
    "\n",
    "    Args:\n",
    "\n",
    "        counts (dict):\n",
    "            The dictionary containing the counts of states\n",
    "\n",
    "        titles (str):\n",
    "            A title for the graph.\n",
    "\n",
    "    Returns:\n",
    "        None\n",
    "\n",
    "    \"\"\"\n",
    "    fig, ax = plt.subplots(figsize =(10, 7))\n",
    "    plt.xlabel(\"States\")\n",
    "    plt.ylabel(\"Counts\")\n",
    "    mylist = [key for key, val in counts.items() for _ in range(val)]\n",
    "\n",
    "    unique, inverse = np.unique(mylist, return_inverse=True)\n",
    "    bin_counts = np.bincount(inverse)\n",
    "\n",
    "    plt.bar(unique, bin_counts)\n",
    "\n",
    "    maxFreq = max(counts.values())\n",
    "    plt.ylim(ymax=np.ceil(maxFreq / 10) * 10 if maxFreq % 10 else maxFreq + 10)\n",
    "    # Show plot\n",
    "    plt.title(title)\n",
    "    plt.show()\n",
    "    return\n",
    "\n",
    "def simons_func (qc, a):\n",
    "    n = qc.num_qubits // 2\n",
    "\n",
    "    # put the first half - REG 1 through H gate\n",
    "    for i in range (n):\n",
    "        qc.h(i)\n",
    "\n",
    "    qc.barrier()\n",
    "\n",
    "    # build the oracle function\n",
    "    for i in range (n):\n",
    "        if ( 0!= (( 1 << i) & a)):\n",
    "            for j in range (n):\n",
    "                qc.cx(q[i], q[j+n])\n",
    "    qc.barrier()\n",
    "\n",
    "    # measure the lower half REG 2\n",
    "    for i in range (n, qc.num_qubits):\n",
    "        qc.measure(i,i)\n",
    "    qc.barrier()\n",
    "\n",
    "    # Apply H transform to REG 1\n",
    "    for i in range (n):\n",
    "        qc.h(i)\n",
    "    qc.barrier()\n",
    "\n",
    "    # Finally measure the first half  REG 1\n",
    "    for i in range (n):\n",
    "        qc.measure(i,i)\n",
    "\n",
    "    return"
   ]
  },
  {
   "cell_type": "code",
   "execution_count": 3,
   "id": "cc57243b-b589-49fb-92f0-40bc8006157c",
   "metadata": {},
   "outputs": [
    {
     "name": "stdin",
     "output_type": "stream",
     "text": [
      "Enter the hidden string as a binary value:  100010101\n"
     ]
    },
    {
     "name": "stdout",
     "output_type": "stream",
     "text": [
      "Job Running\n",
      "Job Done.\n",
      "Ending Job Monitor\n"
     ]
    },
    {
     "data": {
      "image/png": "[encoded data removed]",
      "text/plain": [
       "<Figure size 1000x700 with 1 Axes>"
      ]
     },
     "metadata": {},
     "output_type": "display_data"
    }
   ],
   "source": [
    "# obtain the hidden string from the user\n",
    "hiddenstring = int(input(\"Enter the hidden string as a binary value: \"), 2)\n",
    "\n",
    "#determine the number of qubits required to represent the hidden string\n",
    "numberofqubits = hiddenstring.bit_length()\n",
    "\n",
    "# add a qubit for the ancilla register\n",
    "numberofqubits *= 2\n",
    "\n",
    "q = QuantumRegister(numberofqubits , 'q')\n",
    "c = ClassicalRegister(numberofqubits , 'c')\n",
    "qc = QuantumCircuit(q, c)\n",
    "\n",
    "simons_func(qc, hiddenstring )\n",
    "\n",
    "job = backend.run(qc, shots)\n",
    "job_monitor(job)\n",
    "result = job.result()\n",
    "counts = result.get_counts()\n",
    "\n",
    "# plot the histogram for REG 1 alone\n",
    "res_plot = {}\n",
    "for i in counts.keys():\n",
    "    inp = i[numberofqubits // 2:]\n",
    "    if inp in res_plot:\n",
    "        res_plot[inp] += counts[i]\n",
    "    else:\n",
    "        res_plot[inp] = counts[i]\n",
    "plot_histogram(res_plot, \"\")"
   ]
  },
  {
   "cell_type": "code",
   "execution_count": null,
   "id": "09837272-b6c7-4f16-bc52-07f8f5a08bf9",
   "metadata": {},
   "outputs": [],
   "source": []
  }
 ],
 "metadata": {
  "kernelspec": {
   "display_name": "QCentroid Notebook Quantum Rings",
   "language": "python",
   "name": "notebook-quantumrings"
  },
  "language_info": {
   "codemirror_mode": {
    "name": "ipython",
    "version": 3
   },
   "file_extension": ".py",
   "mimetype": "text/x-python",
   "name": "python",
   "nbconvert_exporter": "python",
   "pygments_lexer": "ipython3",
   "version": "3.11.6"
  }
 },
 "nbformat": 4,
 "nbformat_minor": 5
}
